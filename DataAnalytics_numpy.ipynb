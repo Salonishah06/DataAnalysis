{
  "nbformat": 4,
  "nbformat_minor": 0,
  "metadata": {
    "colab": {
      "provenance": [],
      "authorship_tag": "ABX9TyMdsxwieCKni/gddWRRC86p",
      "include_colab_link": true
    },
    "kernelspec": {
      "name": "python3",
      "display_name": "Python 3"
    },
    "language_info": {
      "name": "python"
    }
  },
  "cells": [
    {
      "cell_type": "markdown",
      "metadata": {
        "id": "view-in-github",
        "colab_type": "text"
      },
      "source": [
        "<a href=\"https://colab.research.google.com/github/Salonishah06/DataAnalysis/blob/main/DataAnalytics_numpy.ipynb\" target=\"_parent\"><img src=\"https://colab.research.google.com/assets/colab-badge.svg\" alt=\"Open In Colab\"/></a>"
      ]
    },
    {
      "cell_type": "code",
      "execution_count": null,
      "metadata": {
        "colab": {
          "base_uri": "https://localhost:8080/"
        },
        "id": "8TkNGalC1xhV",
        "outputId": "71800dc8-8bdf-4e3a-db9b-9119f37e539f"
      },
      "outputs": [
        {
          "output_type": "stream",
          "name": "stdout",
          "text": [
            "[1 2 3]\n"
          ]
        }
      ],
      "source": [
        "import numpy as np\n",
        "\n",
        "arr1=np.array([1,2,3])\n",
        "\n",
        "print(arr1)"
      ]
    },
    {
      "cell_type": "code",
      "source": [
        "print(type(arr1))"
      ],
      "metadata": {
        "colab": {
          "base_uri": "https://localhost:8080/"
        },
        "id": "vzNDuT8S2Cfe",
        "outputId": "c219e237-d3d8-4896-aaa8-357e06138a5f"
      },
      "execution_count": null,
      "outputs": [
        {
          "output_type": "stream",
          "name": "stdout",
          "text": [
            "<class 'numpy.ndarray'>\n"
          ]
        }
      ]
    },
    {
      "cell_type": "code",
      "source": [
        "print(arr1.shape)"
      ],
      "metadata": {
        "colab": {
          "base_uri": "https://localhost:8080/"
        },
        "id": "SgQTcgol2Mu_",
        "outputId": "ecd87687-98ad-44ba-d8db-928a5ad640aa"
      },
      "execution_count": null,
      "outputs": [
        {
          "output_type": "stream",
          "name": "stdout",
          "text": [
            "(3,)\n"
          ]
        }
      ]
    },
    {
      "cell_type": "code",
      "source": [
        "arr1[2]=5\n",
        "print(arr1)"
      ],
      "metadata": {
        "colab": {
          "base_uri": "https://localhost:8080/"
        },
        "id": "6QwPSHQu2QY0",
        "outputId": "ce2340ee-9870-43b9-ee94-4cf7bb51d82f"
      },
      "execution_count": null,
      "outputs": [
        {
          "output_type": "stream",
          "name": "stdout",
          "text": [
            "[1 2 5]\n"
          ]
        }
      ]
    },
    {
      "cell_type": "code",
      "source": [
        "arr2=np.array([[1,2,3],[3,4,5]])\n",
        "arr2"
      ],
      "metadata": {
        "colab": {
          "base_uri": "https://localhost:8080/"
        },
        "id": "ljkJ2m5N2Xyj",
        "outputId": "30c55fa3-09a0-4691-8958-880818474b8d"
      },
      "execution_count": null,
      "outputs": [
        {
          "output_type": "execute_result",
          "data": {
            "text/plain": [
              "array([[1, 2, 3],\n",
              "       [3, 4, 5]])"
            ]
          },
          "metadata": {},
          "execution_count": 5
        }
      ]
    },
    {
      "cell_type": "code",
      "source": [
        "print(arr2[0][2])"
      ],
      "metadata": {
        "colab": {
          "base_uri": "https://localhost:8080/"
        },
        "id": "BptznB8K2uVP",
        "outputId": "93a4423c-d55c-48a2-f906-80667922ae13"
      },
      "execution_count": null,
      "outputs": [
        {
          "output_type": "stream",
          "name": "stdout",
          "text": [
            "3\n"
          ]
        }
      ]
    },
    {
      "cell_type": "code",
      "source": [
        "print(type(arr2))\n",
        "print(arr2.shape)"
      ],
      "metadata": {
        "colab": {
          "base_uri": "https://localhost:8080/"
        },
        "id": "JC-VwpXF3BjN",
        "outputId": "2bfb9efd-56be-4762-aff7-9a7b6378e22e"
      },
      "execution_count": null,
      "outputs": [
        {
          "output_type": "stream",
          "name": "stdout",
          "text": [
            "<class 'numpy.ndarray'>\n",
            "(2, 3)\n"
          ]
        }
      ]
    },
    {
      "cell_type": "code",
      "source": [
        "arr2[1,2]"
      ],
      "metadata": {
        "colab": {
          "base_uri": "https://localhost:8080/"
        },
        "id": "JFRM5yS83TBe",
        "outputId": "4702732c-8166-4142-b127-67e260f5f34f"
      },
      "execution_count": null,
      "outputs": [
        {
          "output_type": "execute_result",
          "data": {
            "text/plain": [
              "5"
            ]
          },
          "metadata": {},
          "execution_count": 8
        }
      ]
    },
    {
      "cell_type": "code",
      "source": [
        "arr2[1][-2]"
      ],
      "metadata": {
        "colab": {
          "base_uri": "https://localhost:8080/"
        },
        "id": "JUP5V6Ra3kxw",
        "outputId": "e1919cd0-5bc0-4ca3-e63f-b825aab91e66"
      },
      "execution_count": null,
      "outputs": [
        {
          "output_type": "execute_result",
          "data": {
            "text/plain": [
              "4"
            ]
          },
          "metadata": {},
          "execution_count": 9
        }
      ]
    },
    {
      "cell_type": "code",
      "source": [
        "arrS=(['China','India','Australia','America'])\n",
        "arrS\n"
      ],
      "metadata": {
        "colab": {
          "base_uri": "https://localhost:8080/"
        },
        "id": "9D_I3qfG3qiK",
        "outputId": "44b42bca-7c8e-48ab-b778-6a96232bc39b"
      },
      "execution_count": null,
      "outputs": [
        {
          "output_type": "execute_result",
          "data": {
            "text/plain": [
              "['China', 'India', 'Australia', 'America']"
            ]
          },
          "metadata": {},
          "execution_count": 10
        }
      ]
    },
    {
      "cell_type": "code",
      "source": [
        "arrR=np.arange(1,19,2)\n",
        "arrR"
      ],
      "metadata": {
        "colab": {
          "base_uri": "https://localhost:8080/"
        },
        "id": "ilS1xNQd9BOR",
        "outputId": "81f43a6c-69db-41a3-a122-e65ee25ac993"
      },
      "execution_count": null,
      "outputs": [
        {
          "output_type": "execute_result",
          "data": {
            "text/plain": [
              "array([ 1,  3,  5,  7,  9, 11, 13, 15, 17])"
            ]
          },
          "metadata": {},
          "execution_count": 11
        }
      ]
    },
    {
      "cell_type": "code",
      "source": [
        "arrL=np.linspace(0,10,20)\n",
        "arrL"
      ],
      "metadata": {
        "colab": {
          "base_uri": "https://localhost:8080/"
        },
        "id": "e6XYazJ89Xe-",
        "outputId": "8aa36a65-504b-459b-eb38-8e8b14fcb7d5"
      },
      "execution_count": null,
      "outputs": [
        {
          "output_type": "execute_result",
          "data": {
            "text/plain": [
              "array([ 0.        ,  0.52631579,  1.05263158,  1.57894737,  2.10526316,\n",
              "        2.63157895,  3.15789474,  3.68421053,  4.21052632,  4.73684211,\n",
              "        5.26315789,  5.78947368,  6.31578947,  6.84210526,  7.36842105,\n",
              "        7.89473684,  8.42105263,  8.94736842,  9.47368421, 10.        ])"
            ]
          },
          "metadata": {},
          "execution_count": 12
        }
      ]
    },
    {
      "cell_type": "code",
      "source": [
        "arr=np.random.rand(10)\n",
        "arr"
      ],
      "metadata": {
        "colab": {
          "base_uri": "https://localhost:8080/"
        },
        "id": "r3-zOW_V90Nv",
        "outputId": "bf577cd5-98be-403c-8564-8391b00ffbbf"
      },
      "execution_count": null,
      "outputs": [
        {
          "output_type": "execute_result",
          "data": {
            "text/plain": [
              "array([0.37285883, 0.53459401, 0.07290491, 0.40720181, 0.05890973,\n",
              "       0.34951789, 0.93935737, 0.064175  , 0.16076832, 0.94551714])"
            ]
          },
          "metadata": {},
          "execution_count": 13
        }
      ]
    },
    {
      "cell_type": "code",
      "source": [
        "arr=np.random.rand(3,4)\n",
        "arr"
      ],
      "metadata": {
        "colab": {
          "base_uri": "https://localhost:8080/"
        },
        "id": "S6w7IaET9_DV",
        "outputId": "80854e94-4496-4c90-ac83-7a16b7f6b59e"
      },
      "execution_count": null,
      "outputs": [
        {
          "output_type": "execute_result",
          "data": {
            "text/plain": [
              "array([[0.26766096, 0.1923014 , 0.46909551, 0.96950064],\n",
              "       [0.278074  , 0.90790145, 0.70278839, 0.0938184 ],\n",
              "       [0.05231299, 0.30296976, 0.43221318, 0.41872163]])"
            ]
          },
          "metadata": {},
          "execution_count": 14
        }
      ]
    },
    {
      "cell_type": "code",
      "source": [
        "print(np.zeros(10))\n",
        "print('/n')\n",
        "print(np.zeros((2,3)))"
      ],
      "metadata": {
        "colab": {
          "base_uri": "https://localhost:8080/"
        },
        "id": "uIUOyiP3-ElS",
        "outputId": "f4757f1c-ad30-4128-f31d-c440e481b07f"
      },
      "execution_count": null,
      "outputs": [
        {
          "output_type": "stream",
          "name": "stdout",
          "text": [
            "[0. 0. 0. 0. 0. 0. 0. 0. 0. 0.]\n",
            "/n\n",
            "[[0. 0. 0.]\n",
            " [0. 0. 0.]]\n"
          ]
        }
      ]
    },
    {
      "cell_type": "code",
      "source": [
        "print(np.ones((2,4)))"
      ],
      "metadata": {
        "colab": {
          "base_uri": "https://localhost:8080/"
        },
        "id": "SWU9TyNV-e3o",
        "outputId": "1c9cb06c-f30b-40b6-f3bb-52c5d5a71c98"
      },
      "execution_count": null,
      "outputs": [
        {
          "output_type": "stream",
          "name": "stdout",
          "text": [
            "[[1. 1. 1. 1.]\n",
            " [1. 1. 1. 1.]]\n"
          ]
        }
      ]
    },
    {
      "cell_type": "code",
      "source": [
        "arr=[0,1,2]\n",
        "print(np.repeat(arr,2))"
      ],
      "metadata": {
        "colab": {
          "base_uri": "https://localhost:8080/"
        },
        "id": "khMYZ8sl-uwO",
        "outputId": "31a939c9-21b5-4237-89c6-0d11bbe39243"
      },
      "execution_count": null,
      "outputs": [
        {
          "output_type": "stream",
          "name": "stdout",
          "text": [
            "[0 0 1 1 2 2]\n"
          ]
        }
      ]
    },
    {
      "cell_type": "code",
      "source": [
        "print(np.tile(arr,3))"
      ],
      "metadata": {
        "colab": {
          "base_uri": "https://localhost:8080/"
        },
        "id": "2MRoAhmp_ADJ",
        "outputId": "6cb129be-6f7a-4799-da23-0ada88007d38"
      },
      "execution_count": null,
      "outputs": [
        {
          "output_type": "stream",
          "name": "stdout",
          "text": [
            "[0 1 2 0 1 2 0 1 2]\n"
          ]
        }
      ]
    },
    {
      "cell_type": "code",
      "source": [
        "#identity matrix\n",
        "identity_matrix=np.eye(3)\n",
        "identity_matrix"
      ],
      "metadata": {
        "colab": {
          "base_uri": "https://localhost:8080/"
        },
        "id": "hEoW3NhJ_I14",
        "outputId": "66b19bb5-3a2e-4720-d0bc-71bd19367054"
      },
      "execution_count": null,
      "outputs": [
        {
          "output_type": "execute_result",
          "data": {
            "text/plain": [
              "array([[1., 0., 0.],\n",
              "       [0., 1., 0.],\n",
              "       [0., 0., 1.]])"
            ]
          },
          "metadata": {},
          "execution_count": 19
        }
      ]
    },
    {
      "cell_type": "code",
      "source": [
        "np.diag([1,2,3,4,5,6])"
      ],
      "metadata": {
        "colab": {
          "base_uri": "https://localhost:8080/"
        },
        "id": "XKQuWE2X_V6B",
        "outputId": "dd91434d-4d16-4247-c638-195aa1f58ac3"
      },
      "execution_count": null,
      "outputs": [
        {
          "output_type": "execute_result",
          "data": {
            "text/plain": [
              "array([[1, 0, 0, 0, 0, 0],\n",
              "       [0, 2, 0, 0, 0, 0],\n",
              "       [0, 0, 3, 0, 0, 0],\n",
              "       [0, 0, 0, 4, 0, 0],\n",
              "       [0, 0, 0, 0, 5, 0],\n",
              "       [0, 0, 0, 0, 0, 6]])"
            ]
          },
          "metadata": {},
          "execution_count": 20
        }
      ]
    },
    {
      "cell_type": "code",
      "source": [
        "arr=np.random.rand(5,5)\n",
        "arr"
      ],
      "metadata": {
        "colab": {
          "base_uri": "https://localhost:8080/"
        },
        "id": "dUFhQQT9_cS-",
        "outputId": "c5cacc48-cc13-4751-bd41-6d7e8825c1e9"
      },
      "execution_count": null,
      "outputs": [
        {
          "output_type": "execute_result",
          "data": {
            "text/plain": [
              "array([[0.88269296, 0.23076519, 0.03195248, 0.44447707, 0.64972317],\n",
              "       [0.28818088, 0.51189489, 0.09486084, 0.86831599, 0.97924848],\n",
              "       [0.13001001, 0.92989327, 0.17022704, 0.72358024, 0.81070037],\n",
              "       [0.85242517, 0.87949633, 0.52778641, 0.36861532, 0.81736577],\n",
              "       [0.75788776, 0.15900239, 0.05524261, 0.45864779, 0.46965338]])"
            ]
          },
          "metadata": {},
          "execution_count": 21
        }
      ]
    },
    {
      "cell_type": "code",
      "source": [
        "np.diag(arr)"
      ],
      "metadata": {
        "colab": {
          "base_uri": "https://localhost:8080/"
        },
        "id": "DMhKaaaW_rDC",
        "outputId": "3d4d6db0-8248-4abd-b1e5-0ac38cafe858"
      },
      "execution_count": null,
      "outputs": [
        {
          "output_type": "execute_result",
          "data": {
            "text/plain": [
              "array([0.88269296, 0.51189489, 0.17022704, 0.36861532, 0.46965338])"
            ]
          },
          "metadata": {},
          "execution_count": 22
        }
      ]
    },
    {
      "cell_type": "code",
      "source": [
        "arr.ndim"
      ],
      "metadata": {
        "colab": {
          "base_uri": "https://localhost:8080/"
        },
        "id": "oOWng6AG_wc-",
        "outputId": "6704d5f2-d021-4df5-ae65-52e20368f637"
      },
      "execution_count": null,
      "outputs": [
        {
          "output_type": "execute_result",
          "data": {
            "text/plain": [
              "2"
            ]
          },
          "metadata": {},
          "execution_count": 23
        }
      ]
    },
    {
      "cell_type": "code",
      "source": [
        "arr.size"
      ],
      "metadata": {
        "colab": {
          "base_uri": "https://localhost:8080/"
        },
        "id": "mpHeUKur_zuq",
        "outputId": "c3ba713e-d68f-4524-8563-95b14550d103"
      },
      "execution_count": null,
      "outputs": [
        {
          "output_type": "execute_result",
          "data": {
            "text/plain": [
              "25"
            ]
          },
          "metadata": {},
          "execution_count": 24
        }
      ]
    },
    {
      "cell_type": "code",
      "source": [
        "arr.shape"
      ],
      "metadata": {
        "colab": {
          "base_uri": "https://localhost:8080/"
        },
        "id": "rYLt99aE_1sk",
        "outputId": "d81efab4-38a0-4b37-f0e4-6ae9b45015ad"
      },
      "execution_count": null,
      "outputs": [
        {
          "output_type": "execute_result",
          "data": {
            "text/plain": [
              "(5, 5)"
            ]
          },
          "metadata": {},
          "execution_count": 25
        }
      ]
    },
    {
      "cell_type": "code",
      "source": [
        "np.random.randint(-10,10,4)"
      ],
      "metadata": {
        "colab": {
          "base_uri": "https://localhost:8080/"
        },
        "id": "ae9Bli51_3Tj",
        "outputId": "6ec86d91-ea6f-4208-e635-3a6f91781bf4"
      },
      "execution_count": null,
      "outputs": [
        {
          "output_type": "execute_result",
          "data": {
            "text/plain": [
              "array([ 7, -4,  8,  1])"
            ]
          },
          "metadata": {},
          "execution_count": 26
        }
      ]
    },
    {
      "cell_type": "code",
      "source": [
        "arr-10"
      ],
      "metadata": {
        "colab": {
          "base_uri": "https://localhost:8080/"
        },
        "id": "8v3gcY1U_7ma",
        "outputId": "d0958076-9447-49ed-9e79-014fd9df864f"
      },
      "execution_count": null,
      "outputs": [
        {
          "output_type": "execute_result",
          "data": {
            "text/plain": [
              "array([[-9.11730704, -9.76923481, -9.96804752, -9.55552293, -9.35027683],\n",
              "       [-9.71181912, -9.48810511, -9.90513916, -9.13168401, -9.02075152],\n",
              "       [-9.86998999, -9.07010673, -9.82977296, -9.27641976, -9.18929963],\n",
              "       [-9.14757483, -9.12050367, -9.47221359, -9.63138468, -9.18263423],\n",
              "       [-9.24211224, -9.84099761, -9.94475739, -9.54135221, -9.53034662]])"
            ]
          },
          "metadata": {},
          "execution_count": 27
        }
      ]
    },
    {
      "cell_type": "code",
      "source": [
        "arr*2"
      ],
      "metadata": {
        "colab": {
          "base_uri": "https://localhost:8080/"
        },
        "id": "g43izG6bAGAY",
        "outputId": "d3ec7481-d583-4023-8648-792a68a23a73"
      },
      "execution_count": null,
      "outputs": [
        {
          "output_type": "execute_result",
          "data": {
            "text/plain": [
              "array([[1.76538592, 0.46153038, 0.06390496, 0.88895414, 1.29944633],\n",
              "       [0.57636177, 1.02378977, 0.18972168, 1.73663198, 1.95849695],\n",
              "       [0.26002002, 1.85978654, 0.34045408, 1.44716047, 1.62140074],\n",
              "       [1.70485033, 1.75899266, 1.05557281, 0.73723064, 1.63473154],\n",
              "       [1.51577552, 0.31800477, 0.11048522, 0.91729558, 0.93930677]])"
            ]
          },
          "metadata": {},
          "execution_count": 28
        }
      ]
    },
    {
      "cell_type": "code",
      "source": [
        "arr/2"
      ],
      "metadata": {
        "colab": {
          "base_uri": "https://localhost:8080/"
        },
        "id": "I8V5POLMARrh",
        "outputId": "b715b914-4ec5-44ed-988d-3d5d4b59022d"
      },
      "execution_count": null,
      "outputs": [
        {
          "output_type": "execute_result",
          "data": {
            "text/plain": [
              "array([[0.44134648, 0.1153826 , 0.01597624, 0.22223854, 0.32486158],\n",
              "       [0.14409044, 0.25594744, 0.04743042, 0.434158  , 0.48962424],\n",
              "       [0.06500501, 0.46494664, 0.08511352, 0.36179012, 0.40535019],\n",
              "       [0.42621258, 0.43974816, 0.2638932 , 0.18430766, 0.40868288],\n",
              "       [0.37894388, 0.07950119, 0.0276213 , 0.2293239 , 0.23482669]])"
            ]
          },
          "metadata": {},
          "execution_count": 29
        }
      ]
    },
    {
      "cell_type": "code",
      "source": [
        "np.exp(arr)"
      ],
      "metadata": {
        "colab": {
          "base_uri": "https://localhost:8080/"
        },
        "id": "y2tRrdc6ASyf",
        "outputId": "73537048-80f7-4599-a856-552cecb8e8e4"
      },
      "execution_count": null,
      "outputs": [
        {
          "output_type": "execute_result",
          "data": {
            "text/plain": [
              "array([[2.41740091, 1.25956345, 1.03246844, 1.55967438, 1.91501062],\n",
              "       [1.33399858, 1.66844973, 1.09950584, 2.38289466, 2.66245459],\n",
              "       [1.13883978, 2.53423869, 1.18557399, 2.06180175, 2.24948291],\n",
              "       [2.34532777, 2.40968571, 1.69517572, 1.44573135, 2.26452669],\n",
              "       [2.13376444, 1.17234075, 1.05679697, 1.58193343, 1.59943971]])"
            ]
          },
          "metadata": {},
          "execution_count": 30
        }
      ]
    },
    {
      "cell_type": "code",
      "source": [
        "np.log2(arr)"
      ],
      "metadata": {
        "colab": {
          "base_uri": "https://localhost:8080/"
        },
        "id": "_J1RI9-aAXNY",
        "outputId": "78d6d7e2-9cc8-41ba-c995-f051d94125a9"
      },
      "execution_count": null,
      "outputs": [
        {
          "output_type": "execute_result",
          "data": {
            "text/plain": [
              "array([[-0.1800164 , -2.11550247, -4.96792836, -1.1698191 , -0.62210295],\n",
              "       [-1.79495346, -0.9660805 , -3.39804357, -0.20370794, -0.03025312],\n",
              "       [-2.94330539, -0.10486295, -2.55446786, -0.46677509, -0.30275929],\n",
              "       [-0.23035491, -0.18525054, -0.9219739 , -1.43981207, -0.29094627],\n",
              "       [-0.39994388, -2.65287967, -4.17807474, -1.1245414 , -1.09033169]])"
            ]
          },
          "metadata": {},
          "execution_count": 31
        }
      ]
    },
    {
      "cell_type": "code",
      "source": [
        "np.log10(arr)"
      ],
      "metadata": {
        "colab": {
          "base_uri": "https://localhost:8080/"
        },
        "id": "d6zHxAkPAdZk",
        "outputId": "8ae4cf3e-3800-496d-89db-5a7d1a6454f9"
      },
      "execution_count": null,
      "outputs": [
        {
          "output_type": "execute_result",
          "data": {
            "text/plain": [
              "array([[-0.05419034, -0.6368297 , -1.49549545, -0.35215064, -0.18727165],\n",
              "       [-0.54033483, -0.29081921, -1.02291304, -0.0613222 , -0.0091071 ],\n",
              "       [-0.88602321, -0.03156689, -0.76897145, -0.1405133 , -0.09113963],\n",
              "       [-0.06934374, -0.05576597, -0.2775418 , -0.43342662, -0.08758355],\n",
              "       [-0.12039511, -0.79859635, -1.25772582, -0.33852069, -0.32822254]])"
            ]
          },
          "metadata": {},
          "execution_count": 32
        }
      ]
    },
    {
      "cell_type": "code",
      "source": [
        "np.sin(arr)"
      ],
      "metadata": {
        "colab": {
          "base_uri": "https://localhost:8080/"
        },
        "id": "tTrMxWi4AjPr",
        "outputId": "273d8f6d-5f48-4e89-cc76-bfc28abad8d4"
      },
      "execution_count": null,
      "outputs": [
        {
          "output_type": "execute_result",
          "data": {
            "text/plain": [
              "array([[0.7724519 , 0.2287225 , 0.03194704, 0.42998582, 0.604966  ],\n",
              "       [0.2842086 , 0.48983012, 0.09471863, 0.76324196, 0.83007852],\n",
              "       [0.12964407, 0.80155613, 0.16940611, 0.66207208, 0.7247699 ],\n",
              "       [0.75287876, 0.77041787, 0.5036222 , 0.36032411, 0.72934617],\n",
              "       [0.68738888, 0.15833326, 0.05521452, 0.44273605, 0.45257723]])"
            ]
          },
          "metadata": {},
          "execution_count": 33
        }
      ]
    },
    {
      "cell_type": "code",
      "source": [
        "np.tan(arr)"
      ],
      "metadata": {
        "colab": {
          "base_uri": "https://localhost:8080/"
        },
        "id": "drBO4luiAliT",
        "outputId": "3a52ba8b-160b-4a11-a6c3-a6518530b26e"
      },
      "execution_count": null,
      "outputs": [
        {
          "output_type": "execute_result",
          "data": {
            "text/plain": [
              "array([[1.21631935, 0.23495065, 0.03196336, 0.47626146, 0.75976767],\n",
              "       [0.29643275, 0.56184912, 0.0951464 , 1.18128289, 1.48853885],\n",
              "       [0.1307475 , 1.34057525, 0.17189056, 0.88342221, 1.05192943],\n",
              "       [1.14391583, 1.20842419, 0.58294734, 0.38627103, 1.06606981],\n",
              "       [0.94643916, 0.16035603, 0.05529887, 0.49376576, 0.50752992]])"
            ]
          },
          "metadata": {},
          "execution_count": 34
        }
      ]
    },
    {
      "cell_type": "code",
      "source": [
        "np.sum(arr)"
      ],
      "metadata": {
        "colab": {
          "base_uri": "https://localhost:8080/"
        },
        "id": "-a6QI6DHAnnx",
        "outputId": "2efc3981-130d-4021-b622-25834a099932"
      },
      "execution_count": null,
      "outputs": [
        {
          "output_type": "execute_result",
          "data": {
            "text/plain": [
              "13.092645796405796"
            ]
          },
          "metadata": {},
          "execution_count": 35
        }
      ]
    },
    {
      "cell_type": "code",
      "source": [
        "np.sum(arr,axis=1)#axis =0 means all columns and axis=1 means all rows"
      ],
      "metadata": {
        "colab": {
          "base_uri": "https://localhost:8080/"
        },
        "id": "D8g-M-J8AvsU",
        "outputId": "908a59b9-2995-45eb-a6fb-d2a9e7635942"
      },
      "execution_count": null,
      "outputs": [
        {
          "output_type": "execute_result",
          "data": {
            "text/plain": [
              "array([2.23961087, 2.74250108, 2.76441093, 3.44568899, 1.90043393])"
            ]
          },
          "metadata": {},
          "execution_count": 36
        }
      ]
    },
    {
      "cell_type": "code",
      "source": [
        "np.min(arr,axis=0)\n",
        "\n",
        "\n"
      ],
      "metadata": {
        "colab": {
          "base_uri": "https://localhost:8080/"
        },
        "id": "JwgSgHMAA0Lj",
        "outputId": "e8bcda33-95cd-408b-eeb7-6029326cdc99"
      },
      "execution_count": null,
      "outputs": [
        {
          "output_type": "execute_result",
          "data": {
            "text/plain": [
              "array([0.13001001, 0.15900239, 0.03195248, 0.36861532, 0.46965338])"
            ]
          },
          "metadata": {},
          "execution_count": 37
        }
      ]
    },
    {
      "cell_type": "code",
      "source": [
        "arr"
      ],
      "metadata": {
        "colab": {
          "base_uri": "https://localhost:8080/"
        },
        "id": "tQFqVjskBJ4i",
        "outputId": "a857f7f6-d36a-4f68-e56f-d49415dae20f"
      },
      "execution_count": null,
      "outputs": [
        {
          "output_type": "execute_result",
          "data": {
            "text/plain": [
              "array([[0.88269296, 0.23076519, 0.03195248, 0.44447707, 0.64972317],\n",
              "       [0.28818088, 0.51189489, 0.09486084, 0.86831599, 0.97924848],\n",
              "       [0.13001001, 0.92989327, 0.17022704, 0.72358024, 0.81070037],\n",
              "       [0.85242517, 0.87949633, 0.52778641, 0.36861532, 0.81736577],\n",
              "       [0.75788776, 0.15900239, 0.05524261, 0.45864779, 0.46965338]])"
            ]
          },
          "metadata": {},
          "execution_count": 38
        }
      ]
    },
    {
      "cell_type": "code",
      "source": [
        "np.max(arr,axis=1)"
      ],
      "metadata": {
        "colab": {
          "base_uri": "https://localhost:8080/"
        },
        "id": "UssJ2xKJBXMX",
        "outputId": "07385932-78bc-4bb1-bd11-2e1c17573ca1"
      },
      "execution_count": null,
      "outputs": [
        {
          "output_type": "execute_result",
          "data": {
            "text/plain": [
              "array([0.88269296, 0.97924848, 0.92989327, 0.87949633, 0.75788776])"
            ]
          },
          "metadata": {},
          "execution_count": 39
        }
      ]
    },
    {
      "cell_type": "code",
      "source": [
        "np.mean(arr,axis=0)"
      ],
      "metadata": {
        "colab": {
          "base_uri": "https://localhost:8080/"
        },
        "id": "ZdAKOV91BcYm",
        "outputId": "e10c1e4f-219d-4bde-e6ba-8b8307ea4e21"
      },
      "execution_count": null,
      "outputs": [
        {
          "output_type": "execute_result",
          "data": {
            "text/plain": [
              "array([0.58223936, 0.54221041, 0.17601387, 0.57272728, 0.74533823])"
            ]
          },
          "metadata": {},
          "execution_count": 40
        }
      ]
    },
    {
      "cell_type": "code",
      "source": [
        "np.median(arr)"
      ],
      "metadata": {
        "colab": {
          "base_uri": "https://localhost:8080/"
        },
        "id": "pMO8vmnoBgMV",
        "outputId": "9be46cbc-28b7-4ea0-cdcc-40ed8fc0b428"
      },
      "execution_count": null,
      "outputs": [
        {
          "output_type": "execute_result",
          "data": {
            "text/plain": [
              "0.511894887418135"
            ]
          },
          "metadata": {},
          "execution_count": 41
        }
      ]
    },
    {
      "cell_type": "code",
      "source": [
        "np.std(arr)"
      ],
      "metadata": {
        "colab": {
          "base_uri": "https://localhost:8080/"
        },
        "id": "Gb7EImtLBomf",
        "outputId": "5cd04464-9b37-4a7d-eb20-5edc1de686eb"
      },
      "execution_count": null,
      "outputs": [
        {
          "output_type": "execute_result",
          "data": {
            "text/plain": [
              "0.3079687106868866"
            ]
          },
          "metadata": {},
          "execution_count": 42
        }
      ]
    },
    {
      "cell_type": "code",
      "source": [
        "np.var(arr)"
      ],
      "metadata": {
        "colab": {
          "base_uri": "https://localhost:8080/"
        },
        "id": "9CNaAP-4Bsgo",
        "outputId": "027d8531-ce97-431d-fc3c-405c0f65de19"
      },
      "execution_count": null,
      "outputs": [
        {
          "output_type": "execute_result",
          "data": {
            "text/plain": [
              "0.09484472676214324"
            ]
          },
          "metadata": {},
          "execution_count": 43
        }
      ]
    },
    {
      "cell_type": "code",
      "source": [
        "arr[1:,2:3]"
      ],
      "metadata": {
        "colab": {
          "base_uri": "https://localhost:8080/"
        },
        "id": "OLKobU1oBx3T",
        "outputId": "9c834d2a-8271-4009-c268-55f6de628d6f"
      },
      "execution_count": null,
      "outputs": [
        {
          "output_type": "execute_result",
          "data": {
            "text/plain": [
              "array([[0.09486084],\n",
              "       [0.17022704],\n",
              "       [0.52778641],\n",
              "       [0.05524261]])"
            ]
          },
          "metadata": {},
          "execution_count": 44
        }
      ]
    },
    {
      "cell_type": "code",
      "source": [
        "np.sort(arr)"
      ],
      "metadata": {
        "id": "dfzYd-bdH3le",
        "colab": {
          "base_uri": "https://localhost:8080/"
        },
        "outputId": "d20cac3e-7889-444b-e5e7-89d8c232e06c"
      },
      "execution_count": null,
      "outputs": [
        {
          "output_type": "execute_result",
          "data": {
            "text/plain": [
              "array([[0.03195248, 0.23076519, 0.44447707, 0.64972317, 0.88269296],\n",
              "       [0.09486084, 0.28818088, 0.51189489, 0.86831599, 0.97924848],\n",
              "       [0.13001001, 0.17022704, 0.72358024, 0.81070037, 0.92989327],\n",
              "       [0.36861532, 0.52778641, 0.81736577, 0.85242517, 0.87949633],\n",
              "       [0.05524261, 0.15900239, 0.45864779, 0.46965338, 0.75788776]])"
            ]
          },
          "metadata": {},
          "execution_count": 45
        }
      ]
    },
    {
      "cell_type": "code",
      "source": [
        "arr"
      ],
      "metadata": {
        "colab": {
          "base_uri": "https://localhost:8080/"
        },
        "id": "pbOgXWCQFLcU",
        "outputId": "b2c240de-28ff-4b75-e9b3-4719d04ef3b4"
      },
      "execution_count": null,
      "outputs": [
        {
          "output_type": "execute_result",
          "data": {
            "text/plain": [
              "array([[0.88269296, 0.23076519, 0.03195248, 0.44447707, 0.64972317],\n",
              "       [0.28818088, 0.51189489, 0.09486084, 0.86831599, 0.97924848],\n",
              "       [0.13001001, 0.92989327, 0.17022704, 0.72358024, 0.81070037],\n",
              "       [0.85242517, 0.87949633, 0.52778641, 0.36861532, 0.81736577],\n",
              "       [0.75788776, 0.15900239, 0.05524261, 0.45864779, 0.46965338]])"
            ]
          },
          "metadata": {},
          "execution_count": 46
        }
      ]
    },
    {
      "cell_type": "code",
      "source": [
        "arr.T"
      ],
      "metadata": {
        "colab": {
          "base_uri": "https://localhost:8080/"
        },
        "id": "s39PDhlvFbkl",
        "outputId": "89e96732-5d6b-4a03-b678-e287d602626f"
      },
      "execution_count": null,
      "outputs": [
        {
          "output_type": "execute_result",
          "data": {
            "text/plain": [
              "array([[0.88269296, 0.28818088, 0.13001001, 0.85242517, 0.75788776],\n",
              "       [0.23076519, 0.51189489, 0.92989327, 0.87949633, 0.15900239],\n",
              "       [0.03195248, 0.09486084, 0.17022704, 0.52778641, 0.05524261],\n",
              "       [0.44447707, 0.86831599, 0.72358024, 0.36861532, 0.45864779],\n",
              "       [0.64972317, 0.97924848, 0.81070037, 0.81736577, 0.46965338]])"
            ]
          },
          "metadata": {},
          "execution_count": 47
        }
      ]
    },
    {
      "cell_type": "code",
      "source": [
        "arr[:3,:].flatten()"
      ],
      "metadata": {
        "colab": {
          "base_uri": "https://localhost:8080/"
        },
        "id": "YUH8gMfdFe8Z",
        "outputId": "a983df2f-a5bb-49cf-f67f-9e44638ce038"
      },
      "execution_count": null,
      "outputs": [
        {
          "output_type": "execute_result",
          "data": {
            "text/plain": [
              "array([0.88269296, 0.23076519, 0.03195248, 0.44447707, 0.64972317,\n",
              "       0.28818088, 0.51189489, 0.09486084, 0.86831599, 0.97924848,\n",
              "       0.13001001, 0.92989327, 0.17022704, 0.72358024, 0.81070037])"
            ]
          },
          "metadata": {},
          "execution_count": 48
        }
      ]
    },
    {
      "cell_type": "code",
      "source": [
        "arr=np.array([4,5,6,7])\n",
        "arr"
      ],
      "metadata": {
        "colab": {
          "base_uri": "https://localhost:8080/"
        },
        "id": "S1BWKPlaGxxl",
        "outputId": "62faab84-3b63-4d15-94d0-d73c0d430e3d"
      },
      "execution_count": null,
      "outputs": [
        {
          "output_type": "execute_result",
          "data": {
            "text/plain": [
              "array([4, 5, 6, 7])"
            ]
          },
          "metadata": {},
          "execution_count": 49
        }
      ]
    },
    {
      "cell_type": "code",
      "source": [
        "arr1=np.append(arr,8)\n",
        "arr1"
      ],
      "metadata": {
        "colab": {
          "base_uri": "https://localhost:8080/"
        },
        "id": "WtKfpZmwG_hE",
        "outputId": "5967f5a9-4915-4fb4-9440-d920ab1b6621"
      },
      "execution_count": null,
      "outputs": [
        {
          "output_type": "execute_result",
          "data": {
            "text/plain": [
              "array([4, 5, 6, 7, 8])"
            ]
          },
          "metadata": {},
          "execution_count": 50
        }
      ]
    },
    {
      "cell_type": "code",
      "source": [
        "arr2=np.insert(arr,0,[1,2,3])\n",
        "arr2"
      ],
      "metadata": {
        "colab": {
          "base_uri": "https://localhost:8080/"
        },
        "id": "b2f3NGOBHXSc",
        "outputId": "e7704953-4d6c-4777-d61f-bb6a67f2fc81"
      },
      "execution_count": null,
      "outputs": [
        {
          "output_type": "execute_result",
          "data": {
            "text/plain": [
              "array([1, 2, 3, 4, 5, 6, 7])"
            ]
          },
          "metadata": {},
          "execution_count": 51
        }
      ]
    },
    {
      "cell_type": "code",
      "source": [
        "arr3=np.delete(arr2,[1,2])\n",
        "arr3"
      ],
      "metadata": {
        "colab": {
          "base_uri": "https://localhost:8080/"
        },
        "id": "OWfppuNqHt5-",
        "outputId": "15868f2c-1998-4705-9ae4-46765e1e95a9"
      },
      "execution_count": null,
      "outputs": [
        {
          "output_type": "execute_result",
          "data": {
            "text/plain": [
              "array([1, 4, 5, 6, 7])"
            ]
          },
          "metadata": {},
          "execution_count": 53
        }
      ]
    },
    {
      "cell_type": "code",
      "source": [
        "arrC=arr3.copy()\n",
        "arrC"
      ],
      "metadata": {
        "colab": {
          "base_uri": "https://localhost:8080/"
        },
        "id": "swYdcZf2H5MO",
        "outputId": "d8370d36-d160-4978-ed94-bba4ee4adc92"
      },
      "execution_count": null,
      "outputs": [
        {
          "output_type": "execute_result",
          "data": {
            "text/plain": [
              "array([1, 4, 5, 6, 7])"
            ]
          },
          "metadata": {},
          "execution_count": 55
        }
      ]
    },
    {
      "cell_type": "code",
      "source": [
        "arr1=np.array([[1,2,3,4],[1,2,3,4]])\n",
        "arr2=np.array([[5,6,7,8],[5,6,7,8]])\n",
        "arr_cat=np.concatenate((arr1,arr2),axis=1)\n",
        "print(arr_cat)"
      ],
      "metadata": {
        "colab": {
          "base_uri": "https://localhost:8080/"
        },
        "id": "t-uIs4SuIBi0",
        "outputId": "8124a425-9129-4e3c-bd77-f973289567f7"
      },
      "execution_count": null,
      "outputs": [
        {
          "output_type": "stream",
          "name": "stdout",
          "text": [
            "[[1 2 3 4 5 6 7 8]\n",
            " [1 2 3 4 5 6 7 8]]\n"
          ]
        }
      ]
    },
    {
      "cell_type": "code",
      "source": [
        "catv=np.vstack((arr1,arr2))"
      ],
      "metadata": {
        "id": "EbTO5yXeIu7y"
      },
      "execution_count": null,
      "outputs": []
    },
    {
      "cell_type": "code",
      "source": [
        "print(catv)"
      ],
      "metadata": {
        "colab": {
          "base_uri": "https://localhost:8080/"
        },
        "id": "xEFRNxT1JVC_",
        "outputId": "16fae04b-feb4-4cc4-e16b-92302350b58d"
      },
      "execution_count": null,
      "outputs": [
        {
          "output_type": "stream",
          "name": "stdout",
          "text": [
            "[[1 2 3 4]\n",
            " [1 2 3 4]\n",
            " [5 6 7 8]\n",
            " [5 6 7 8]]\n"
          ]
        }
      ]
    },
    {
      "cell_type": "code",
      "source": [
        "catH=np.hstack((arr1,arr2))"
      ],
      "metadata": {
        "id": "tbuS6dBLJXSK"
      },
      "execution_count": null,
      "outputs": []
    },
    {
      "cell_type": "code",
      "source": [
        "print(catH)"
      ],
      "metadata": {
        "colab": {
          "base_uri": "https://localhost:8080/"
        },
        "id": "jA12JymqJd8k",
        "outputId": "e2c9359c-0d70-4d78-a619-cc972827e19a"
      },
      "execution_count": null,
      "outputs": [
        {
          "output_type": "stream",
          "name": "stdout",
          "text": [
            "[[1 2 3 4 5 6 7 8]\n",
            " [1 2 3 4 5 6 7 8]]\n"
          ]
        }
      ]
    },
    {
      "cell_type": "code",
      "source": [
        "arr=np.array([1,2,3,4,2,1,3,4,56])\n",
        "np.unique(arr)"
      ],
      "metadata": {
        "colab": {
          "base_uri": "https://localhost:8080/"
        },
        "id": "u3f_Ji6kJilu",
        "outputId": "ab7971ac-6556-4de9-9438-5a10117289ac"
      },
      "execution_count": null,
      "outputs": [
        {
          "output_type": "execute_result",
          "data": {
            "text/plain": [
              "array([ 1,  2,  3,  4, 56])"
            ]
          },
          "metadata": {},
          "execution_count": 67
        }
      ]
    },
    {
      "cell_type": "code",
      "source": [
        "uniques,counts=np.unique(arr,return_counts=True)\n",
        "print(uniques)\n",
        "print(counts)"
      ],
      "metadata": {
        "colab": {
          "base_uri": "https://localhost:8080/"
        },
        "id": "aZYWcfg7JtfD",
        "outputId": "28ab4d9a-a37d-4ef2-99cb-63fe55de5ee8"
      },
      "execution_count": null,
      "outputs": [
        {
          "output_type": "stream",
          "name": "stdout",
          "text": [
            "[ 1  2  3  4 56]\n",
            "[2 2 2 2 1]\n"
          ]
        }
      ]
    },
    {
      "cell_type": "code",
      "source": [
        "#intersection,differentiation,neither\n",
        "arr1=np.array([1,2,3,4,5,6,7])\n",
        "arr2=np.array([3,4,5,6,7,9])\n",
        "print(np.intersect1d(arr1,arr2))#what do they both have in common\n",
        "print(np.union1d(arr1,arr2))#what are the unique values in both arrays\n",
        "print(np.setdiff1d(arr1,arr2))#what is not in arr1 but not arr2\n",
        "print(np.setxor1d(arr1,arr2))#what is there in 1 and not in 2 and vice versa"
      ],
      "metadata": {
        "colab": {
          "base_uri": "https://localhost:8080/"
        },
        "id": "tq_uVjQxJ-g5",
        "outputId": "6af85dc9-e846-4548-ae35-6d9015f18e72"
      },
      "execution_count": null,
      "outputs": [
        {
          "output_type": "stream",
          "name": "stdout",
          "text": [
            "[3 4 5 6 7]\n",
            "[1 2 3 4 5 6 7 9]\n",
            "[1 2]\n",
            "[1 2 9]\n"
          ]
        }
      ]
    },
    {
      "cell_type": "code",
      "source": [],
      "metadata": {
        "id": "J9SmS_t7Kp3V"
      },
      "execution_count": null,
      "outputs": []
    }
  ]
}